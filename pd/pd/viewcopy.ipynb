{
 "cells": [
  {
   "cell_type": "code",
   "execution_count": null,
   "metadata": {},
   "outputs": [],
   "source": [
    "#button\n",
    "from Django.shortcuts import render\n",
    "import requests\n",
    "\n",
    "def button(request):\n",
    "    return render(request,'Product Finder.html')\n",
    "\n",
    "def output(request):\n",
    "    data=requests.get(\"https://reqres.in/api/users\")\n",
    "    print(data.text)\n",
    "    data=data.text\n",
    "    return render(request,\"Product Finder.html\",{'data':data})"
   ]
  }
 ],
 "metadata": {
  "kernelspec": {
   "display_name": "Python 3",
   "language": "python",
   "name": "python3"
  },
  "language_info": {
   "codemirror_mode": {
    "name": "ipython",
    "version": 3
   },
   "file_extension": ".py",
   "mimetype": "text/x-python",
   "name": "python",
   "nbconvert_exporter": "python",
   "pygments_lexer": "ipython3",
   "version": "3.8.3"
  }
 },
 "nbformat": 4,
 "nbformat_minor": 4
}
